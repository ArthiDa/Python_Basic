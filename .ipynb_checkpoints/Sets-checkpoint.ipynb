{
 "cells": [
  {
   "cell_type": "markdown",
   "id": "2a54dee3",
   "metadata": {},
   "source": [
    "## Sets are used to store multiple items in a single variable. A set is a collection which is unordered, unchangeable*, and unindexed. Set items are unchangeable, but you can remove items and add new items. Set do not allow duplicate items."
   ]
  },
  {
   "cell_type": "code",
   "execution_count": 2,
   "id": "78555c80",
   "metadata": {},
   "outputs": [
    {
     "name": "stdout",
     "output_type": "stream",
     "text": [
      "{'pritam', 'arthi', 'ilham', 'ayat'}\n"
     ]
    }
   ],
   "source": [
    "new_set = {'arthi','ayat','pritam','ilham','arthi'}\n",
    "print(new_set)"
   ]
  },
  {
   "cell_type": "markdown",
   "id": "78886826",
   "metadata": {},
   "source": [
    "## The set() constructor"
   ]
  },
  {
   "cell_type": "code",
   "execution_count": 4,
   "id": "f4365835",
   "metadata": {},
   "outputs": [
    {
     "name": "stdout",
     "output_type": "stream",
     "text": [
      "{True, 34, 40, 'male', 'abc'}\n"
     ]
    }
   ],
   "source": [
    "new_set = set((\"abc\", 34, True, 40, \"male\",1))\n",
    "print(new_set)"
   ]
  },
  {
   "cell_type": "markdown",
   "id": "17115911",
   "metadata": {},
   "source": [
    "## Add items"
   ]
  },
  {
   "cell_type": "code",
   "execution_count": 5,
   "id": "03b1cc9e",
   "metadata": {},
   "outputs": [
    {
     "name": "stdout",
     "output_type": "stream",
     "text": [
      "{'pritam', 'ayat', 'arthi', 'ilham'}\n",
      "{'ilham', 'pritam', 'sohel', 'arthi', 'ayat'}\n"
     ]
    }
   ],
   "source": [
    "new_set = {'arthi','ayat','pritam','ilham','arthi'}\n",
    "print(new_set)\n",
    "new_set.add('sohel')\n",
    "print(new_set)"
   ]
  },
  {
   "cell_type": "markdown",
   "id": "5c302bff",
   "metadata": {},
   "source": [
    "## Add Sets"
   ]
  },
  {
   "cell_type": "code",
   "execution_count": 6,
   "id": "04487988",
   "metadata": {},
   "outputs": [
    {
     "name": "stdout",
     "output_type": "stream",
     "text": [
      "{'sohel', 'arthi', 'ilham', 'ayat', 'pritam'}\n"
     ]
    }
   ],
   "source": [
    "set1 = {'arthi','ayat','pritam'}\n",
    "set2 = {'arthi','sohel','ilham'}\n",
    "set1.update(set2)\n",
    "print(set1)"
   ]
  },
  {
   "cell_type": "markdown",
   "id": "79a3f35a",
   "metadata": {},
   "source": [
    "## Remove Item using remove() or the discard(). If the item to remove does not exist, remove() will raise an error. If the item to remove does not exist, discard() will NOT raise an error."
   ]
  },
  {
   "cell_type": "code",
   "execution_count": 7,
   "id": "e62c7112",
   "metadata": {},
   "outputs": [
    {
     "name": "stdout",
     "output_type": "stream",
     "text": [
      "{'pritam', 'arthi', 'ayat'}\n",
      "{'pritam', 'ayat'}\n",
      "{'sohel', 'arthi', 'ilham'}\n",
      "{'arthi', 'ilham'}\n"
     ]
    }
   ],
   "source": [
    "set1 = {'arthi','ayat','pritam'}\n",
    "print(set1)\n",
    "set1.remove('arthi')\n",
    "print(set1)\n",
    "set2 = {'arthi','sohel','ilham'}\n",
    "print(set2)\n",
    "set2.discard('sohel')\n",
    "print(set2)"
   ]
  },
  {
   "cell_type": "markdown",
   "id": "12d0ba60",
   "metadata": {},
   "source": [
    "## Remove a random item by using the pop()"
   ]
  },
  {
   "cell_type": "code",
   "execution_count": 8,
   "id": "d4430d02",
   "metadata": {},
   "outputs": [
    {
     "name": "stdout",
     "output_type": "stream",
     "text": [
      "banana\n",
      "{'apple', 'cherry'}\n"
     ]
    }
   ],
   "source": [
    "thisset = {\"apple\", \"banana\", \"cherry\"}\n",
    "x = thisset.pop()\n",
    "print(x)\n",
    "print(thisset)"
   ]
  },
  {
   "cell_type": "markdown",
   "id": "a4409f2c",
   "metadata": {},
   "source": [
    "## The clear() method empties the set and the del keyword will delete the set completely"
   ]
  },
  {
   "cell_type": "markdown",
   "id": "5cfa70de",
   "metadata": {},
   "source": [
    "## Join Sets"
   ]
  },
  {
   "cell_type": "code",
   "execution_count": 9,
   "id": "04d04f5a",
   "metadata": {},
   "outputs": [
    {
     "name": "stdout",
     "output_type": "stream",
     "text": [
      "{1, 'a', 2, 3, 'c', 'b'}\n"
     ]
    }
   ],
   "source": [
    "set1 = {\"a\", \"b\" , \"c\"}\n",
    "set2 = {1, 2, 3}\n",
    "set3 = set1.union(set2)\n",
    "print(set3)"
   ]
  },
  {
   "cell_type": "markdown",
   "id": "47d86381",
   "metadata": {},
   "source": [
    "# Keep only the duplicates. The intersection_update() method will keep only the items that are present in both sets."
   ]
  },
  {
   "cell_type": "code",
   "execution_count": 10,
   "id": "b298e215",
   "metadata": {},
   "outputs": [
    {
     "name": "stdout",
     "output_type": "stream",
     "text": [
      "{'apple'}\n"
     ]
    }
   ],
   "source": [
    "x = {\"apple\", \"banana\", \"cherry\"}\n",
    "y = {\"google\", \"microsoft\", \"apple\"}\n",
    "x.intersection_update(y)\n",
    "print(x)"
   ]
  },
  {
   "cell_type": "markdown",
   "id": "3dc90474",
   "metadata": {},
   "source": [
    "## Keep All, But NOT the Duplicates. The symmetric_difference_update() method will keep only the elements that are NOT present in both sets."
   ]
  },
  {
   "cell_type": "code",
   "execution_count": 11,
   "id": "ba614e04",
   "metadata": {},
   "outputs": [
    {
     "name": "stdout",
     "output_type": "stream",
     "text": [
      "{'microsoft', 'banana', 'google', 'cherry'}\n"
     ]
    }
   ],
   "source": [
    "x = {\"apple\", \"banana\", \"cherry\"}\n",
    "y = {\"google\", \"microsoft\", \"apple\"}\n",
    "x.symmetric_difference_update(y)\n",
    "print(x)"
   ]
  },
  {
   "cell_type": "markdown",
   "id": "42903496",
   "metadata": {},
   "source": [
    "## Python - Set Methods\n",
    "https://www.w3schools.com/python/python_sets_methods.asp"
   ]
  }
 ],
 "metadata": {
  "kernelspec": {
   "display_name": "Python 3 (ipykernel)",
   "language": "python",
   "name": "python3"
  },
  "language_info": {
   "codemirror_mode": {
    "name": "ipython",
    "version": 3
   },
   "file_extension": ".py",
   "mimetype": "text/x-python",
   "name": "python",
   "nbconvert_exporter": "python",
   "pygments_lexer": "ipython3",
   "version": "3.10.4"
  }
 },
 "nbformat": 4,
 "nbformat_minor": 5
}
