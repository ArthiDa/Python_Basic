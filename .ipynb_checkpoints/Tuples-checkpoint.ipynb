{
 "cells": [
  {
   "cell_type": "markdown",
   "id": "aebb05a8",
   "metadata": {},
   "source": [
    "## Tuple. Tuples are used to store multiple items in a single variable. A tuple is a collection which is ordered and unchangeable. Tuples are written with round brackets."
   ]
  },
  {
   "cell_type": "code",
   "execution_count": 1,
   "id": "9cdc07a7",
   "metadata": {},
   "outputs": [
    {
     "name": "stdout",
     "output_type": "stream",
     "text": [
      "('arthi', 'ayat', 'pritam', 'ilham')\n"
     ]
    }
   ],
   "source": [
    "new_tuple = ('arthi','ayat','pritam','ilham')\n",
    "print(new_tuple)"
   ]
  },
  {
   "cell_type": "markdown",
   "id": "736f5ab9",
   "metadata": {},
   "source": [
    "## Tuple items -> Ordered, Unchangeable, Allow Duplicates"
   ]
  },
  {
   "cell_type": "markdown",
   "id": "4a615574",
   "metadata": {},
   "source": [
    "## Create Tuple with one item"
   ]
  },
  {
   "cell_type": "code",
   "execution_count": 2,
   "id": "174d6a4e",
   "metadata": {},
   "outputs": [
    {
     "name": "stdout",
     "output_type": "stream",
     "text": [
      "<class 'tuple'>\n",
      "<class 'str'>\n"
     ]
    }
   ],
   "source": [
    "new_tuple = ('arthi',)\n",
    "print(type(new_tuple))\n",
    "\n",
    "new_tuple = ('arthi')\n",
    "print(type(new_tuple))"
   ]
  },
  {
   "cell_type": "markdown",
   "id": "1e9f2063",
   "metadata": {},
   "source": [
    "## The tuple() constructor"
   ]
  },
  {
   "cell_type": "code",
   "execution_count": 3,
   "id": "2faac598",
   "metadata": {},
   "outputs": [
    {
     "name": "stdout",
     "output_type": "stream",
     "text": [
      "('arthi', 'ayat', 'pritam', 'ilham')\n"
     ]
    }
   ],
   "source": [
    "new_tuple = tuple(('arthi','ayat','pritam','ilham'))\n",
    "print(new_tuple)"
   ]
  },
  {
   "cell_type": "markdown",
   "id": "8d1d8e5e",
   "metadata": {},
   "source": [
    "## Once a tuple is created, you cannot change its values. Tuples are unchangeable, or immutable as it also is called. But there is a workaround. You can convert the tuple into a list, change the list, and convert the list back into a tuple."
   ]
  },
  {
   "cell_type": "code",
   "execution_count": 4,
   "id": "46348129",
   "metadata": {},
   "outputs": [
    {
     "name": "stdout",
     "output_type": "stream",
     "text": [
      "('sohel', 'ayat', 'ilahm', 'pritam')\n"
     ]
    }
   ],
   "source": [
    "x = ('arthi','ayat','ilahm','pritam')\n",
    "y = list(x)\n",
    "y[0] = 'sohel'\n",
    "x = tuple(y)\n",
    "print(x)"
   ]
  },
  {
   "cell_type": "code",
   "execution_count": 5,
   "id": "239ee10d",
   "metadata": {},
   "outputs": [
    {
     "name": "stdout",
     "output_type": "stream",
     "text": [
      "('arthi', 'ayat', 'ilahm', 'pritam')\n"
     ]
    },
    {
     "ename": "NameError",
     "evalue": "name 'x' is not defined",
     "output_type": "error",
     "traceback": [
      "\u001b[1;31m---------------------------------------------------------------------------\u001b[0m",
      "\u001b[1;31mNameError\u001b[0m                                 Traceback (most recent call last)",
      "Cell \u001b[1;32mIn[5], line 4\u001b[0m\n\u001b[0;32m      2\u001b[0m \u001b[38;5;28mprint\u001b[39m(x)\n\u001b[0;32m      3\u001b[0m \u001b[38;5;28;01mdel\u001b[39;00m x\n\u001b[1;32m----> 4\u001b[0m \u001b[38;5;28mprint\u001b[39m(\u001b[43mx\u001b[49m)\n",
      "\u001b[1;31mNameError\u001b[0m: name 'x' is not defined"
     ]
    }
   ],
   "source": [
    "x = ('arthi','ayat','ilahm','pritam')\n",
    "print(x)\n",
    "del x\n",
    "print(x)"
   ]
  },
  {
   "cell_type": "markdown",
   "id": "fe5a960a",
   "metadata": {},
   "source": [
    "## Unpack Tuples"
   ]
  },
  {
   "cell_type": "code",
   "execution_count": 7,
   "id": "d80530fb",
   "metadata": {},
   "outputs": [
    {
     "name": "stdout",
     "output_type": "stream",
     "text": [
      "arthi\n",
      "sohel\n",
      "pritam\n"
     ]
    }
   ],
   "source": [
    "names = ('arthi','sohel','pritam')\n",
    "(cse,eee,bme) = names\n",
    "print(cse)\n",
    "print(eee)\n",
    "print(bme)"
   ]
  },
  {
   "cell_type": "code",
   "execution_count": 9,
   "id": "f4e06ab0",
   "metadata": {},
   "outputs": [
    {
     "name": "stdout",
     "output_type": "stream",
     "text": [
      "pritam\n",
      "sohel\n",
      "['arthi', 'ayat', 'ilham']\n"
     ]
    }
   ],
   "source": [
    "names = ('pritam','sohel','arthi','ayat','ilham')\n",
    "(bme,eee,*cse) = names\n",
    "print(bme)\n",
    "print(eee)\n",
    "print(cse)"
   ]
  },
  {
   "cell_type": "code",
   "execution_count": 10,
   "id": "11bc5bb4",
   "metadata": {},
   "outputs": [
    {
     "name": "stdout",
     "output_type": "stream",
     "text": [
      "pritam\n",
      "sohel\n",
      "['ilham', 'arthi', 'ayat']\n"
     ]
    }
   ],
   "source": [
    "names = ('pritam','ilham','arthi','ayat','sohel')\n",
    "(bme,*cse,eee) = names\n",
    "print(bme)\n",
    "print(eee)\n",
    "print(cse)"
   ]
  },
  {
   "cell_type": "markdown",
   "id": "5e025ee8",
   "metadata": {},
   "source": [
    "## Python - Tuple Methods\n",
    "https://www.w3schools.com/python/python_tuples_methods.asp"
   ]
  }
 ],
 "metadata": {
  "kernelspec": {
   "display_name": "Python 3 (ipykernel)",
   "language": "python",
   "name": "python3"
  },
  "language_info": {
   "codemirror_mode": {
    "name": "ipython",
    "version": 3
   },
   "file_extension": ".py",
   "mimetype": "text/x-python",
   "name": "python",
   "nbconvert_exporter": "python",
   "pygments_lexer": "ipython3",
   "version": "3.10.4"
  }
 },
 "nbformat": 4,
 "nbformat_minor": 5
}
