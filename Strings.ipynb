{
 "cells": [
  {
   "cell_type": "markdown",
   "id": "9a17bca3",
   "metadata": {},
   "source": [
    "# Strings in python are surrounded by either single quotation marks, or double quotation marks."
   ]
  },
  {
   "cell_type": "code",
   "execution_count": 2,
   "id": "c0491c94",
   "metadata": {},
   "outputs": [
    {
     "name": "stdout",
     "output_type": "stream",
     "text": [
      "Hello\n",
      "Hello\n"
     ]
    }
   ],
   "source": [
    "print('Hello')\n",
    "print(\"Hello\")"
   ]
  },
  {
   "cell_type": "markdown",
   "id": "071fdf2d",
   "metadata": {},
   "source": [
    "# Assign String to a Variable"
   ]
  },
  {
   "cell_type": "code",
   "execution_count": 3,
   "id": "6b9a559e",
   "metadata": {},
   "outputs": [
    {
     "name": "stdout",
     "output_type": "stream",
     "text": [
      "Hello\n"
     ]
    }
   ],
   "source": [
    "a = \"Hello\"\n",
    "print(a)"
   ]
  },
  {
   "cell_type": "markdown",
   "id": "74f6da93",
   "metadata": {},
   "source": [
    "# Multiline Strings"
   ]
  },
  {
   "cell_type": "code",
   "execution_count": 5,
   "id": "ebebb9f3",
   "metadata": {},
   "outputs": [
    {
     "name": "stdout",
     "output_type": "stream",
     "text": [
      "Hi, I am Arthi.\n",
      "       Currently, I am pursuing my bachelor's degree from IIUC.\n",
      "       I am a Competitive Programmer\n"
     ]
    }
   ],
   "source": [
    "a = \"\"\"Hi, I am Arthi.\n",
    "       Currently, I am pursuing my bachelor's degree from IIUC.\n",
    "       I am a Competitive Programmer\"\"\"\n",
    "print(a)"
   ]
  },
  {
   "cell_type": "markdown",
   "id": "0b843356",
   "metadata": {},
   "source": [
    "# Strings are Arrays"
   ]
  },
  {
   "cell_type": "code",
   "execution_count": 6,
   "id": "359284de",
   "metadata": {},
   "outputs": [
    {
     "name": "stdout",
     "output_type": "stream",
     "text": [
      "e\n"
     ]
    }
   ],
   "source": [
    "a = \"Hello, World!\"\n",
    "print(a[1])"
   ]
  },
  {
   "cell_type": "markdown",
   "id": "d06a7348",
   "metadata": {},
   "source": [
    "# Looping Through a String"
   ]
  },
  {
   "cell_type": "code",
   "execution_count": 7,
   "id": "74203619",
   "metadata": {},
   "outputs": [
    {
     "name": "stdout",
     "output_type": "stream",
     "text": [
      "B\n",
      "a\n",
      "n\n",
      "a\n",
      "n\n",
      "a\n"
     ]
    }
   ],
   "source": [
    "for x in \"Banana\":\n",
    "    print(x)"
   ]
  },
  {
   "cell_type": "markdown",
   "id": "1151c63b",
   "metadata": {},
   "source": [
    "# String Length and Check String"
   ]
  },
  {
   "cell_type": "code",
   "execution_count": 8,
   "id": "5163d3e3",
   "metadata": {},
   "outputs": [
    {
     "name": "stdout",
     "output_type": "stream",
     "text": [
      "13\n",
      "YES\n"
     ]
    }
   ],
   "source": [
    "a = \"Hello, World!\"\n",
    "print(len(a))\n",
    "\n",
    "txt = \"The best things in life are free!\"\n",
    "if \"free\" in txt:\n",
    "    print(\"YES\")\n",
    "else:\n",
    "    print(\"NO\")"
   ]
  },
  {
   "cell_type": "markdown",
   "id": "db182249",
   "metadata": {},
   "source": [
    "# Slicing Strings. Specify the start index and the end index, separated by a colon, to return a part of the string."
   ]
  },
  {
   "cell_type": "code",
   "execution_count": 10,
   "id": "450538a2",
   "metadata": {},
   "outputs": [
    {
     "name": "stdout",
     "output_type": "stream",
     "text": [
      "Hello\n",
      "World\n",
      "Hello, World!\n"
     ]
    }
   ],
   "source": [
    "a = \"Hello, World!\"\n",
    "part1 = a[:5]\n",
    "part2 = a[7:12]\n",
    "part3 = a[:]\n",
    "print(part1)\n",
    "print(part2)\n",
    "print(part3)"
   ]
  },
  {
   "cell_type": "markdown",
   "id": "f2097afd",
   "metadata": {},
   "source": [
    "# Modify Strings. Python has a set of build-in methods that we can use on strings."
   ]
  },
  {
   "cell_type": "code",
   "execution_count": 11,
   "id": "dc2d99b6",
   "metadata": {},
   "outputs": [
    {
     "name": "stdout",
     "output_type": "stream",
     "text": [
      "All upper case using upper() HELLO, WORLD!\n",
      "All lower case using lower() hello, world!\n",
      "Remove whitespace using strip() Hello, World!\n",
      "Replace using replace()  Jello, World! \n",
      "Spliting the string into substrings using split() [' Hello', ' World! ']\n"
     ]
    }
   ],
   "source": [
    "a = \"Hello, World!\"\n",
    "print(\"All upper case using upper()\",a.upper())\n",
    "print(\"All lower case using lower()\",a.lower())\n",
    "\n",
    "a = \" Hello, World! \"\n",
    "print(\"Remove whitespace using strip()\", a.strip())\n",
    "\n",
    "print(\"Replace using replace()\", a.replace(\"H\", \"J\"))\n",
    "\n",
    "print(\"Spliting the string into substrings using split()\", a.split(\",\"))"
   ]
  },
  {
   "cell_type": "markdown",
   "id": "23b083cc",
   "metadata": {},
   "source": [
    "# String Concatenation. To concatenate, or combine, two strings we can use the + operator"
   ]
  },
  {
   "cell_type": "code",
   "execution_count": 12,
   "id": "5c09c0ad",
   "metadata": {},
   "outputs": [
    {
     "name": "stdout",
     "output_type": "stream",
     "text": [
      "Hello World\n"
     ]
    }
   ],
   "source": [
    "a = \"Hello\"\n",
    "b = \"World\"\n",
    "c = a + \" \" + b\n",
    "print(c)"
   ]
  },
  {
   "cell_type": "markdown",
   "id": "d274bf9f",
   "metadata": {},
   "source": [
    "# Format - Strings. We can combine strings and numbers by using the format() method. It takes the passed arguments, formats then and places then in the string where the placeholders {} are"
   ]
  },
  {
   "cell_type": "code",
   "execution_count": 13,
   "id": "872748bf",
   "metadata": {},
   "outputs": [
    {
     "name": "stdout",
     "output_type": "stream",
     "text": [
      "My name is John, and I am 36 years old\n"
     ]
    }
   ],
   "source": [
    "age = 36\n",
    "txt = \"My name is John, and I am {} years old\"\n",
    "print(txt.format(age))"
   ]
  },
  {
   "cell_type": "code",
   "execution_count": 14,
   "id": "81ead227",
   "metadata": {},
   "outputs": [
    {
     "name": "stdout",
     "output_type": "stream",
     "text": [
      "My name is Arthi. I am 23 years old and I am a Programmer\n"
     ]
    }
   ],
   "source": [
    "name = \"Arthi\"\n",
    "age = 23\n",
    "passion = \"Programmer\"\n",
    "txt = \"My name is {}. I am {} years old and I am a {}\"\n",
    "print(txt.format(name,age,passion))"
   ]
  },
  {
   "cell_type": "code",
   "execution_count": 15,
   "id": "9419f831",
   "metadata": {},
   "outputs": [
    {
     "name": "stdout",
     "output_type": "stream",
     "text": [
      "My name is Arthi. I am 23 years old and I am a Programmer\n"
     ]
    }
   ],
   "source": [
    "name = \"Arthi\"\n",
    "age = 23\n",
    "passion = \"Programmer\"\n",
    "txt = \"My name is {1}. I am {0} years old and I am a {2}\"\n",
    "print(txt.format(age,name,passion))"
   ]
  },
  {
   "cell_type": "markdown",
   "id": "e1f4319c",
   "metadata": {},
   "source": [
    "# Escape Character"
   ]
  },
  {
   "cell_type": "code",
   "execution_count": 18,
   "id": "82509003",
   "metadata": {},
   "outputs": [
    {
     "name": "stdout",
     "output_type": "stream",
     "text": [
      "We are the so-called \"Vikings\" from the north\n"
     ]
    }
   ],
   "source": [
    "txt = \"We are the so-called \\\"Vikings\\\" from the north\"\n",
    "print(txt)"
   ]
  },
  {
   "cell_type": "code",
   "execution_count": 19,
   "id": "e898afe7",
   "metadata": {},
   "outputs": [
    {
     "name": "stdout",
     "output_type": "stream",
     "text": [
      "This will insert one \\ (backslash).\n"
     ]
    }
   ],
   "source": [
    "txt = \"This will insert one \\\\ (backslash).\"\n",
    "print(txt)"
   ]
  },
  {
   "cell_type": "code",
   "execution_count": 21,
   "id": "f1faf974",
   "metadata": {},
   "outputs": [
    {
     "name": "stdout",
     "output_type": "stream",
     "text": [
      "Hello\r",
      "World!\n",
      "Hello\tWorld!\n",
      "Hello \bWorld!\n",
      "Hello\n",
      "Hello\n"
     ]
    }
   ],
   "source": [
    "# Carriage Return \n",
    "txt = \"Hello\\rWorld!\"\n",
    "print(txt) \n",
    "# Tab\n",
    "txt = \"Hello\\tWorld!\"\n",
    "print(txt) \n",
    "# Backspace\n",
    "txt = \"Hello \\bWorld!\"\n",
    "print(txt)\n",
    "# Octal Value\n",
    "txt = \"\\110\\145\\154\\154\\157\"\n",
    "print(txt)\n",
    "# Hex Value\n",
    "txt = \"\\x48\\x65\\x6c\\x6c\\x6f\"\n",
    "print(txt) "
   ]
  },
  {
   "cell_type": "markdown",
   "id": "4d8627c9",
   "metadata": {},
   "source": [
    "# Python Other String Methods\n",
    "https://www.w3schools.com/python/python_ref_string.asp"
   ]
  },
  {
   "cell_type": "markdown",
   "id": "48b11224",
   "metadata": {},
   "source": [
    "# Practice Strings related Problems"
   ]
  },
  {
   "cell_type": "code",
   "execution_count": 23,
   "id": "03fdfd21",
   "metadata": {},
   "outputs": [
    {
     "name": "stdout",
     "output_type": "stream",
     "text": [
      "5\n",
      "a r t h i\n",
      "['a', 'r', 't', 'h', 'i']\n",
      "arthi\n"
     ]
    }
   ],
   "source": [
    "n = int(input())\n",
    "str = [ch for ch in input().split()]\n",
    "print(str)\n",
    "final_str = \"\"\n",
    "for ch in str:\n",
    "    final_str += ch\n",
    "print(final_str)"
   ]
  }
 ],
 "metadata": {
  "kernelspec": {
   "display_name": "Python 3 (ipykernel)",
   "language": "python",
   "name": "python3"
  },
  "language_info": {
   "codemirror_mode": {
    "name": "ipython",
    "version": 3
   },
   "file_extension": ".py",
   "mimetype": "text/x-python",
   "name": "python",
   "nbconvert_exporter": "python",
   "pygments_lexer": "ipython3",
   "version": "3.10.4"
  }
 },
 "nbformat": 4,
 "nbformat_minor": 5
}
