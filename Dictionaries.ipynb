{
 "cells": [
  {
   "cell_type": "markdown",
   "id": "f17c58a1",
   "metadata": {},
   "source": [
    "## Dictionaries are used to store data values in key:value pairs. A dictionary is a collection which is ordered*, changeable and do not allow duplicates.Dictionaries are written with curly brackets, and have keys and values"
   ]
  },
  {
   "cell_type": "code",
   "execution_count": 1,
   "id": "9fa55b5c",
   "metadata": {},
   "outputs": [
    {
     "name": "stdout",
     "output_type": "stream",
     "text": [
      "{'name': 'Arthi', 'Department': 'CSE', 'Semester': '6th'}\n"
     ]
    }
   ],
   "source": [
    "detail = {\n",
    "    'name' : 'Arthi',\n",
    "    'Department' : 'CSE',\n",
    "    'Semester' : '6th'\n",
    "}\n",
    "print(detail)"
   ]
  },
  {
   "cell_type": "code",
   "execution_count": 2,
   "id": "dafbcf2f",
   "metadata": {},
   "outputs": [
    {
     "name": "stdout",
     "output_type": "stream",
     "text": [
      "Arthi\n"
     ]
    }
   ],
   "source": [
    "detail = {\n",
    "    'name' : 'Arthi',\n",
    "    'Department' : 'CSE',\n",
    "    'Semester' : '6th'\n",
    "}\n",
    "print(detail['name'])"
   ]
  },
  {
   "cell_type": "code",
   "execution_count": 3,
   "id": "1e2edc2d",
   "metadata": {},
   "outputs": [
    {
     "name": "stdout",
     "output_type": "stream",
     "text": [
      "{'name': 'Arthi', 'Dept': 'CSE', 'Sem': '7th'}\n"
     ]
    }
   ],
   "source": [
    "details = {\n",
    "    'name' : 'Arthi',\n",
    "    'Dept' : 'CSE',\n",
    "    'Sem' : '6th',\n",
    "    'Sem' : '7th'\n",
    "}\n",
    "print(details)"
   ]
  },
  {
   "cell_type": "code",
   "execution_count": 4,
   "id": "513e51f5",
   "metadata": {},
   "outputs": [
    {
     "name": "stdout",
     "output_type": "stream",
     "text": [
      "3\n"
     ]
    }
   ],
   "source": [
    "details = {\n",
    "    'name' : 'Arthi',\n",
    "    'Dept' : 'CSE',\n",
    "    'Sem' : '6th',\n",
    "    'Sem' : '7th'\n",
    "}\n",
    "print(len(details))"
   ]
  },
  {
   "cell_type": "markdown",
   "id": "5f011246",
   "metadata": {},
   "source": [
    "## The dict() Constructor"
   ]
  },
  {
   "cell_type": "code",
   "execution_count": 5,
   "id": "ed9443e9",
   "metadata": {},
   "outputs": [
    {
     "name": "stdout",
     "output_type": "stream",
     "text": [
      "{'name': 'John', 'age': 36, 'country': 'Norway'}\n"
     ]
    }
   ],
   "source": [
    "thisdict = dict(name = \"John\", age = 36, country = \"Norway\")\n",
    "print(thisdict)"
   ]
  },
  {
   "cell_type": "markdown",
   "id": "a24b4eb3",
   "metadata": {},
   "source": [
    "## Get Keys"
   ]
  },
  {
   "cell_type": "code",
   "execution_count": 6,
   "id": "1cd3f929",
   "metadata": {},
   "outputs": [
    {
     "name": "stdout",
     "output_type": "stream",
     "text": [
      "dict_keys(['name', 'Dept', 'Sem'])\n"
     ]
    }
   ],
   "source": [
    "details = {\n",
    "    'name' : 'Arthi',\n",
    "    'Dept' : 'CSE',\n",
    "    'Sem' : '7th'\n",
    "}\n",
    "print(details.keys())"
   ]
  },
  {
   "cell_type": "markdown",
   "id": "1eaaa568",
   "metadata": {},
   "source": [
    "## Get Values"
   ]
  },
  {
   "cell_type": "code",
   "execution_count": 7,
   "id": "059e01f3",
   "metadata": {},
   "outputs": [
    {
     "name": "stdout",
     "output_type": "stream",
     "text": [
      "dict_values(['Arthi', 'CSE', '7th'])\n"
     ]
    }
   ],
   "source": [
    "details = {\n",
    "    'name' : 'Arthi',\n",
    "    'Dept' : 'CSE',\n",
    "    'Sem' : '7th'\n",
    "}\n",
    "print(details.values())"
   ]
  },
  {
   "cell_type": "markdown",
   "id": "5dde8d4b",
   "metadata": {},
   "source": [
    "## Get Items"
   ]
  },
  {
   "cell_type": "code",
   "execution_count": 8,
   "id": "5df7efa0",
   "metadata": {},
   "outputs": [
    {
     "name": "stdout",
     "output_type": "stream",
     "text": [
      "dict_items([('name', 'Arthi'), ('Dept', 'CSE'), ('Sem', '7th')])\n"
     ]
    }
   ],
   "source": [
    "details = {\n",
    "    'name' : 'Arthi',\n",
    "    'Dept' : 'CSE',\n",
    "    'Sem' : '7th'\n",
    "}\n",
    "print(details.items())"
   ]
  },
  {
   "cell_type": "markdown",
   "id": "cc1da0c3",
   "metadata": {},
   "source": [
    "## Check if Key Exists"
   ]
  },
  {
   "cell_type": "code",
   "execution_count": 9,
   "id": "8b51fc19",
   "metadata": {},
   "outputs": [
    {
     "name": "stdout",
     "output_type": "stream",
     "text": [
      "YES\n"
     ]
    }
   ],
   "source": [
    "details = {\n",
    "    'name' : 'Arthi',\n",
    "    'Dept' : 'CSE',\n",
    "    'Sem' : '7th'\n",
    "}\n",
    "if 'name' in details:\n",
    "    print(\"YES\")"
   ]
  },
  {
   "cell_type": "markdown",
   "id": "0cf2a4e6",
   "metadata": {},
   "source": [
    "## Update Dictionary"
   ]
  },
  {
   "cell_type": "code",
   "execution_count": 10,
   "id": "37cdbf73",
   "metadata": {},
   "outputs": [
    {
     "name": "stdout",
     "output_type": "stream",
     "text": [
      "{'Name': 'Arthi', 'Dept': 'CSE', 'Sem': '6th'}\n",
      "{'Name': 'Arthi', 'Dept': 'CSE', 'Sem': '7th'}\n"
     ]
    }
   ],
   "source": [
    "details = {\n",
    "    'Name' : 'Arthi',\n",
    "    'Dept' : 'CSE',\n",
    "    'Sem' : '6th'\n",
    "}\n",
    "print(details)\n",
    "\n",
    "details.update({'Sem':'7th'})\n",
    "print(details)"
   ]
  },
  {
   "cell_type": "markdown",
   "id": "fb89e624",
   "metadata": {},
   "source": [
    "## Removing Items"
   ]
  },
  {
   "cell_type": "code",
   "execution_count": 11,
   "id": "f49f517c",
   "metadata": {},
   "outputs": [
    {
     "name": "stdout",
     "output_type": "stream",
     "text": [
      "{'Name': 'Arthi', 'Dept': 'CSE', 'Sem': '6th'}\n",
      "{'Name': 'Arthi', 'Dept': 'CSE'}\n"
     ]
    }
   ],
   "source": [
    "details = {\n",
    "    'Name' : 'Arthi',\n",
    "    'Dept' : 'CSE',\n",
    "    'Sem' : '6th'\n",
    "}\n",
    "print(details)\n",
    "details.pop('Sem')\n",
    "print(details)"
   ]
  },
  {
   "cell_type": "markdown",
   "id": "8b85de10",
   "metadata": {},
   "source": [
    "## Remove Random Item from Dictionary using popitem()"
   ]
  },
  {
   "cell_type": "code",
   "execution_count": 12,
   "id": "12623991",
   "metadata": {},
   "outputs": [
    {
     "name": "stdout",
     "output_type": "stream",
     "text": [
      "{'Name': 'Arthi', 'Dept': 'CSE', 'Sem': '7th'}\n",
      "{'Name': 'Arthi', 'Dept': 'CSE'}\n"
     ]
    }
   ],
   "source": [
    "details = {\n",
    "    'Name' : 'Arthi',\n",
    "    'Dept' : 'CSE',\n",
    "    'Sem' : '7th'\n",
    "}\n",
    "print(details)\n",
    "details.popitem()\n",
    "print(details)"
   ]
  },
  {
   "cell_type": "markdown",
   "id": "1973b2e9",
   "metadata": {},
   "source": [
    "## Loop Through a Dictionary"
   ]
  },
  {
   "cell_type": "code",
   "execution_count": 13,
   "id": "b8a23c0f",
   "metadata": {},
   "outputs": [
    {
     "name": "stdout",
     "output_type": "stream",
     "text": [
      "Name\n",
      "Dept\n",
      "Sem\n"
     ]
    }
   ],
   "source": [
    "details = {\n",
    "    'Name' : 'Arthi',\n",
    "    'Dept' : 'CSE',\n",
    "    'Sem' : '7th'\n",
    "}\n",
    "for keys in details:\n",
    "    print(keys)"
   ]
  },
  {
   "cell_type": "code",
   "execution_count": 15,
   "id": "92786a74",
   "metadata": {},
   "outputs": [
    {
     "name": "stdout",
     "output_type": "stream",
     "text": [
      "Name Arthi\n",
      "Dept CSE\n",
      "Sem 7th\n"
     ]
    }
   ],
   "source": [
    "details = {\n",
    "    'Name' : 'Arthi',\n",
    "    'Dept' : 'CSE',\n",
    "    'Sem' : '7th'\n",
    "}\n",
    "for keys in details:\n",
    "    print(keys,details[keys])"
   ]
  },
  {
   "cell_type": "code",
   "execution_count": 16,
   "id": "74fe90e6",
   "metadata": {},
   "outputs": [
    {
     "name": "stdout",
     "output_type": "stream",
     "text": [
      "Name Arthi\n",
      "Dept CSE\n",
      "Sem 7th\n"
     ]
    }
   ],
   "source": [
    "details = {\n",
    "    'Name' : 'Arthi',\n",
    "    'Dept' : 'CSE',\n",
    "    'Sem' : '7th'\n",
    "}\n",
    "for keys, values in details.items():\n",
    "    print(keys,values)"
   ]
  },
  {
   "cell_type": "markdown",
   "id": "ce97570f",
   "metadata": {},
   "source": [
    "## Nested Dictionaries"
   ]
  },
  {
   "cell_type": "code",
   "execution_count": 17,
   "id": "bf6651ff",
   "metadata": {},
   "outputs": [
    {
     "name": "stdout",
     "output_type": "stream",
     "text": [
      "{'id1': {'name': 'Arthi', 'dept': 'CSE'}, 'id2': {'name': 'Pritam', 'dept': 'BME'}, 'id3': {'name': 'Sohel', 'dept': 'EEE'}, 'id4': {'name': 'Ilham', 'dept': 'CSE'}}\n"
     ]
    }
   ],
   "source": [
    "students = {\n",
    "    'id1' : {\n",
    "        'name' : 'Arthi',\n",
    "        'dept' : 'CSE'\n",
    "    },\n",
    "    'id2' : {\n",
    "        'name' : 'Pritam',\n",
    "        'dept' : 'BME'\n",
    "    },\n",
    "    'id3' : {\n",
    "        'name' : 'Sohel',\n",
    "        'dept' : 'EEE'\n",
    "    },\n",
    "    'id4' : {\n",
    "        'name' : 'Ilham',\n",
    "        'dept' : 'CSE'\n",
    "    }\n",
    "}\n",
    "print(students)"
   ]
  },
  {
   "cell_type": "code",
   "execution_count": 19,
   "id": "e61b8335",
   "metadata": {},
   "outputs": [
    {
     "name": "stdout",
     "output_type": "stream",
     "text": [
      "{'child1': {'name': 'Emil', 'year': 2004}, 'child2': {'name': 'Tobias', 'year': 2007}, 'child3': {'name': 'Linus', 'year': 2011}}\n"
     ]
    }
   ],
   "source": [
    "child1 = {\n",
    "  \"name\" : \"Emil\",\n",
    "  \"year\" : 2004\n",
    "}\n",
    "child2 = {\n",
    "  \"name\" : \"Tobias\",\n",
    "  \"year\" : 2007\n",
    "}\n",
    "child3 = {\n",
    "  \"name\" : \"Linus\",\n",
    "  \"year\" : 2011\n",
    "}\n",
    "\n",
    "myfamily = {\n",
    "  \"child1\" : child1,\n",
    "  \"child2\" : child2,\n",
    "  \"child3\" : child3\n",
    "}\n",
    "print(myfamily)"
   ]
  },
  {
   "cell_type": "code",
   "execution_count": 20,
   "id": "a5e47520",
   "metadata": {},
   "outputs": [
    {
     "name": "stdout",
     "output_type": "stream",
     "text": [
      "{'id1': {'name': 'Arthi', 'dept': 'CSE'}, 'id2': {'name': 'Pritam', 'dept': 'BME'}, 'id3': {'name': 'Sohel', 'dept': 'EEE'}, 'id4': {'name': 'Ilham', 'dept': 'CSE'}}\n",
      "Arthi\n"
     ]
    }
   ],
   "source": [
    "students = {\n",
    "    'id1' : {\n",
    "        'name' : 'Arthi',\n",
    "        'dept' : 'CSE'\n",
    "    },\n",
    "    'id2' : {\n",
    "        'name' : 'Pritam',\n",
    "        'dept' : 'BME'\n",
    "    },\n",
    "    'id3' : {\n",
    "        'name' : 'Sohel',\n",
    "        'dept' : 'EEE'\n",
    "    },\n",
    "    'id4' : {\n",
    "        'name' : 'Ilham',\n",
    "        'dept' : 'CSE'\n",
    "    }\n",
    "}\n",
    "print(students)\n",
    "print(students['id1']['name'])"
   ]
  },
  {
   "cell_type": "markdown",
   "id": "0bbda8bb",
   "metadata": {},
   "source": [
    "## Python - Dictionary Methods\n",
    "https://www.w3schools.com/python/python_dictionaries_methods.asp"
   ]
  }
 ],
 "metadata": {
  "kernelspec": {
   "display_name": "Python 3 (ipykernel)",
   "language": "python",
   "name": "python3"
  },
  "language_info": {
   "codemirror_mode": {
    "name": "ipython",
    "version": 3
   },
   "file_extension": ".py",
   "mimetype": "text/x-python",
   "name": "python",
   "nbconvert_exporter": "python",
   "pygments_lexer": "ipython3",
   "version": "3.10.4"
  }
 },
 "nbformat": 4,
 "nbformat_minor": 5
}
