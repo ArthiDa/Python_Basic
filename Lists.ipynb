{
 "cells": [
  {
   "cell_type": "markdown",
   "id": "4883174c",
   "metadata": {},
   "source": [
    "# List is a collection which is ordered and changeable. Allows duplicate members. Lists are used to store multiple items in a single varible. Lists are one of 4 built-in data types in Python used to store collections of data, the other 3 are Tuple, Set, and Dictionary, all with different qualities and usage. Lists are created using square brackets"
   ]
  },
  {
   "cell_type": "code",
   "execution_count": 1,
   "id": "ba1c32b3",
   "metadata": {},
   "outputs": [
    {
     "name": "stdout",
     "output_type": "stream",
     "text": [
      "['Apple', 'Banana', 'Cherry']\n"
     ]
    }
   ],
   "source": [
    "fruit_list = [\"Apple\", \"Banana\", \"Cherry\"]\n",
    "print(fruit_list)"
   ]
  },
  {
   "cell_type": "markdown",
   "id": "c1d4e1a2",
   "metadata": {},
   "source": [
    "# Ordered - When we say that lists are ordered, it means that the items have a defined order, and that order will not change. Changeable - The list is changeable, meaning that we can change, add, or remove items in a list after it has been created."
   ]
  },
  {
   "cell_type": "markdown",
   "id": "158b778c",
   "metadata": {},
   "source": [
    "# The list() Constructor. It is also possible to use the list() constructor when creating a new list"
   ]
  },
  {
   "cell_type": "code",
   "execution_count": 2,
   "id": "538e685e",
   "metadata": {},
   "outputs": [
    {
     "name": "stdout",
     "output_type": "stream",
     "text": [
      "['Apple', 'Banana', 'Cherry']\n"
     ]
    }
   ],
   "source": [
    "this_list = list((\"Apple\", \"Banana\", \"Cherry\"))\n",
    "print(this_list)"
   ]
  },
  {
   "cell_type": "markdown",
   "id": "0543beb0",
   "metadata": {},
   "source": [
    "# Access Items"
   ]
  },
  {
   "cell_type": "code",
   "execution_count": 6,
   "id": "c3da38ee",
   "metadata": {},
   "outputs": [
    {
     "name": "stdout",
     "output_type": "stream",
     "text": [
      "The 1st indexed fruit Banana\n",
      "The last indexed fruit Mango\n",
      "Start from 2nd indexed and end in 4th indexed ['Cherry', 'Orange', 'Kiwi']\n"
     ]
    }
   ],
   "source": [
    "fruit_list = [\"Apple\", \"Banana\", \"Cherry\",\"Orange\", \"Kiwi\", \"Melon\", \"Mango\"]\n",
    "print(\"The 1st indexed fruit\",fruit_list[1])\n",
    "print(\"The last indexed fruit\",fruit_list[-1])\n",
    "print(\"Start from 2nd indexed and end in 4th indexed\",fruit_list[2:5])"
   ]
  },
  {
   "cell_type": "markdown",
   "id": "53399188",
   "metadata": {},
   "source": [
    "# Check if Item Exists"
   ]
  },
  {
   "cell_type": "code",
   "execution_count": 7,
   "id": "b9a95a6a",
   "metadata": {},
   "outputs": [
    {
     "name": "stdout",
     "output_type": "stream",
     "text": [
      "YES, 'Apple' is in the fruits list\n",
      "NO, 'Jackfruit' is not in the fruits list\n"
     ]
    }
   ],
   "source": [
    "fruit_list = [\"Apple\", \"Banana\", \"Cherry\",\"Orange\", \"Kiwi\", \"Melon\", \"Mango\"]\n",
    "if \"Apple\" in fruit_list:\n",
    "    print(\"YES, 'Apple' is in the fruits list\")\n",
    "if \"Jackfruit\" in fruit_list:\n",
    "    print(\"YES, 'Jackfruit' is in the fruits list\")\n",
    "else:\n",
    "    print(\"NO, 'Jackfruit' is not in the fruits list\")"
   ]
  },
  {
   "cell_type": "markdown",
   "id": "ed3ac4d9",
   "metadata": {},
   "source": [
    "# Change List Items"
   ]
  },
  {
   "cell_type": "code",
   "execution_count": 11,
   "id": "1e85a3cb",
   "metadata": {},
   "outputs": [
    {
     "name": "stdout",
     "output_type": "stream",
     "text": [
      "['Apple', 'Banana', 'Cherry', 'Orange', 'Jackfruit', 'Melon', 'Mango']\n",
      "['Apple', 'Banana', 'Cherry', 'Orange', 'Jackfruit', 'Watermelon', 'Blackcurrant']\n",
      "['Apple', 'Banana', 'Cherry', 'Orange', 'Jackfruit', 'Mango']\n"
     ]
    }
   ],
   "source": [
    "fruit_list = [\"Apple\", \"Banana\", \"Cherry\",\"Orange\", \"Kiwi\", \"Melon\", \"Mango\"]\n",
    "fruit_list[4] = \"Jackfruit\"\n",
    "print(fruit_list)\n",
    "\n",
    "fruit_list[5:] = [\"Watermelon\", \"Blackcurrant\"]\n",
    "print(fruit_list)\n",
    "\n",
    "fruit_list[5:] = [\"Mango\"]\n",
    "print(fruit_list)"
   ]
  },
  {
   "cell_type": "markdown",
   "id": "8ce01797",
   "metadata": {},
   "source": [
    "# Insert Items"
   ]
  },
  {
   "cell_type": "code",
   "execution_count": 14,
   "id": "31399367",
   "metadata": {},
   "outputs": [
    {
     "name": "stdout",
     "output_type": "stream",
     "text": [
      "['Apple', 'Banana', 'Jackfruit', 'Cherry', 'Orange', 'Kiwi', 'Melon', 'Mango']\n"
     ]
    }
   ],
   "source": [
    "fruit_list = [\"Apple\", \"Banana\", \"Cherry\",\"Orange\", \"Kiwi\", \"Melon\", \"Mango\"]\n",
    "fruit_list.insert(2,\"Jackfruit\")\n",
    "print(fruit_list)"
   ]
  },
  {
   "cell_type": "markdown",
   "id": "a405feff",
   "metadata": {},
   "source": [
    "# Append Items"
   ]
  },
  {
   "cell_type": "code",
   "execution_count": 1,
   "id": "1b533b7b",
   "metadata": {},
   "outputs": [
    {
     "name": "stdout",
     "output_type": "stream",
     "text": [
      "['Arthi', 'Ayat', 'Ilham', 'Pritam', 'Sohel']\n"
     ]
    }
   ],
   "source": [
    "name_list = [\"Arthi\",\"Ayat\",\"Ilham\",\"Pritam\"]\n",
    "name_list.append(\"Sohel\")\n",
    "print(name_list)"
   ]
  },
  {
   "cell_type": "markdown",
   "id": "2603e037",
   "metadata": {},
   "source": [
    "# Extend List"
   ]
  },
  {
   "cell_type": "code",
   "execution_count": 2,
   "id": "b686d9a8",
   "metadata": {},
   "outputs": [
    {
     "name": "stdout",
     "output_type": "stream",
     "text": [
      "['Arthi', 'Ayat', 'Ilham', 'Pritam', 'Sohel', 'Shuvo', 'Mithu']\n"
     ]
    }
   ],
   "source": [
    "name_list1 = [\"Arthi\", \"Ayat\", \"Ilham\", \"Pritam\"]\n",
    "name_list2 = [\"Sohel\", \"Shuvo\", \"Mithu\"]\n",
    "name_list1.extend(name_list2)\n",
    "print(name_list1)"
   ]
  },
  {
   "cell_type": "markdown",
   "id": "0a328768",
   "metadata": {},
   "source": [
    "# Add Any Iterable. The extend() method does not have to append lists, you can add any iterable object (tuples, sets, dictionaries etc.)."
   ]
  },
  {
   "cell_type": "code",
   "execution_count": 3,
   "id": "3e2ee12f",
   "metadata": {},
   "outputs": [
    {
     "name": "stdout",
     "output_type": "stream",
     "text": [
      "['apple', 'banana', 'cherry', 'kiwi', 'orange']\n"
     ]
    }
   ],
   "source": [
    "thislist = [\"apple\", \"banana\", \"cherry\"]\n",
    "thistuple = (\"kiwi\", \"orange\")\n",
    "thislist.extend(thistuple)\n",
    "print(thislist)"
   ]
  },
  {
   "cell_type": "markdown",
   "id": "50f47f59",
   "metadata": {},
   "source": [
    "# Remove List Items"
   ]
  },
  {
   "cell_type": "code",
   "execution_count": 4,
   "id": "bc03aeb2",
   "metadata": {},
   "outputs": [
    {
     "name": "stdout",
     "output_type": "stream",
     "text": [
      "['Arthi', 'Ayat', 'Ilham', 'Pritam']\n",
      "['Arthi', 'Ayat', 'Ilham']\n"
     ]
    }
   ],
   "source": [
    "name_list = [\"Arthi\", \"Ayat\", \"Ilham\", \"Pritam\"]\n",
    "print(name_list)\n",
    "name_list.remove('Pritam')\n",
    "print(name_list)"
   ]
  },
  {
   "cell_type": "code",
   "execution_count": 5,
   "id": "a5fb3106",
   "metadata": {},
   "outputs": [
    {
     "name": "stdout",
     "output_type": "stream",
     "text": [
      "['Arthi', 'Ayat', 'Ilham', 'Pritam']\n",
      "['Ayat', 'Ilham', 'Pritam']\n"
     ]
    }
   ],
   "source": [
    "name_list = [\"Arthi\", \"Ayat\", \"Ilham\", \"Pritam\"]\n",
    "print(name_list)\n",
    "name_list.pop(0)\n",
    "print(name_list)"
   ]
  },
  {
   "cell_type": "code",
   "execution_count": 6,
   "id": "fe101c85",
   "metadata": {},
   "outputs": [
    {
     "name": "stdout",
     "output_type": "stream",
     "text": [
      "['Arthi', 'Ayat', 'Ilham', 'Pritam']\n",
      "['Arthi', 'Ayat', 'Ilham']\n"
     ]
    }
   ],
   "source": [
    "name_list = [\"Arthi\", \"Ayat\", \"Ilham\", \"Pritam\"]\n",
    "print(name_list)\n",
    "name_list.pop()\n",
    "print(name_list)"
   ]
  },
  {
   "cell_type": "code",
   "execution_count": 7,
   "id": "43519851",
   "metadata": {},
   "outputs": [
    {
     "name": "stdout",
     "output_type": "stream",
     "text": [
      "['Arthi', 'Ayat', 'Ilham', 'Pritam']\n",
      "['Arthi', 'Ilham', 'Pritam']\n"
     ]
    }
   ],
   "source": [
    "name_list = [\"Arthi\", \"Ayat\", \"Ilham\", \"Pritam\"]\n",
    "print(name_list)\n",
    "del name_list[1]\n",
    "print(name_list)"
   ]
  },
  {
   "cell_type": "code",
   "execution_count": 8,
   "id": "eb78ebdd",
   "metadata": {},
   "outputs": [
    {
     "name": "stdout",
     "output_type": "stream",
     "text": [
      "['Arthi', 'Ayat', 'Ilham', 'Pritam']\n"
     ]
    },
    {
     "ename": "NameError",
     "evalue": "name 'name_list' is not defined",
     "output_type": "error",
     "traceback": [
      "\u001b[1;31m---------------------------------------------------------------------------\u001b[0m",
      "\u001b[1;31mNameError\u001b[0m                                 Traceback (most recent call last)",
      "Cell \u001b[1;32mIn[8], line 4\u001b[0m\n\u001b[0;32m      2\u001b[0m \u001b[38;5;28mprint\u001b[39m(name_list)\n\u001b[0;32m      3\u001b[0m \u001b[38;5;28;01mdel\u001b[39;00m name_list\n\u001b[1;32m----> 4\u001b[0m \u001b[38;5;28mprint\u001b[39m(\u001b[43mname_list\u001b[49m)\n",
      "\u001b[1;31mNameError\u001b[0m: name 'name_list' is not defined"
     ]
    }
   ],
   "source": [
    "name_list = [\"Arthi\", \"Ayat\", \"Ilham\", \"Pritam\"]\n",
    "print(name_list)\n",
    "del name_list\n",
    "print(name_list)"
   ]
  },
  {
   "cell_type": "code",
   "execution_count": 9,
   "id": "3b1e2d58",
   "metadata": {},
   "outputs": [
    {
     "name": "stdout",
     "output_type": "stream",
     "text": [
      "['Arthi', 'Ayat', 'Ilham', 'Pritam']\n",
      "[]\n"
     ]
    }
   ],
   "source": [
    "name_list = [\"Arthi\", \"Ayat\", \"Ilham\", \"Pritam\"]\n",
    "print(name_list)\n",
    "name_list.clear()\n",
    "print(name_list)"
   ]
  },
  {
   "cell_type": "markdown",
   "id": "351d3452",
   "metadata": {},
   "source": [
    "# Loop through a List"
   ]
  },
  {
   "cell_type": "code",
   "execution_count": 10,
   "id": "4067aea1",
   "metadata": {},
   "outputs": [
    {
     "name": "stdout",
     "output_type": "stream",
     "text": [
      "Arthi\n",
      "Ayat\n",
      "Ilham\n",
      "Pritam\n"
     ]
    }
   ],
   "source": [
    "name_list = [\"Arthi\", \"Ayat\", \"Ilham\", \"Pritam\"]\n",
    "for name in name_list:\n",
    "    print(name)"
   ]
  },
  {
   "cell_type": "code",
   "execution_count": 11,
   "id": "5650b401",
   "metadata": {},
   "outputs": [
    {
     "name": "stdout",
     "output_type": "stream",
     "text": [
      "Arthi\n",
      "Ayat\n",
      "Ilham\n",
      "Pritam\n"
     ]
    }
   ],
   "source": [
    "name_list = [\"Arthi\", \"Ayat\", \"Ilham\", \"Pritam\"]\n",
    "for i in range(len(name_list)):\n",
    "    print(name_list[i])"
   ]
  },
  {
   "cell_type": "markdown",
   "id": "9e800ea9",
   "metadata": {},
   "source": [
    "## Looping Using List Comprehension. List Comprehension offers the shortest syntax for looping through lists"
   ]
  },
  {
   "cell_type": "code",
   "execution_count": 12,
   "id": "6fafb99a",
   "metadata": {},
   "outputs": [
    {
     "name": "stdout",
     "output_type": "stream",
     "text": [
      "Arthi\n",
      "Ayat\n",
      "Ilham\n",
      "Pritam\n"
     ]
    },
    {
     "data": {
      "text/plain": [
       "[None, None, None, None]"
      ]
     },
     "execution_count": 12,
     "metadata": {},
     "output_type": "execute_result"
    }
   ],
   "source": [
    "name_list = [\"Arthi\", \"Ayat\", \"Ilham\", \"Pritam\"]\n",
    "[print(name) for name in name_list]"
   ]
  },
  {
   "cell_type": "markdown",
   "id": "ebd8ecfe",
   "metadata": {},
   "source": [
    "## List Comprehension. List comprehension offers a shorter syntax when you want to create a new list based on the values of an existing list."
   ]
  },
  {
   "cell_type": "code",
   "execution_count": 13,
   "id": "74b9e07c",
   "metadata": {},
   "outputs": [
    {
     "name": "stdout",
     "output_type": "stream",
     "text": [
      "['Arthi', 'Pritam']\n"
     ]
    }
   ],
   "source": [
    "name_list = [\"Arthi\", \"Ayat\", \"Ilham\", \"Pritam\"]\n",
    "new_list = []\n",
    "for name in name_list:\n",
    "    if 'r' in name:\n",
    "        new_list.append(name)\n",
    "print(new_list)"
   ]
  },
  {
   "cell_type": "markdown",
   "id": "c6f8c144",
   "metadata": {},
   "source": [
    "## Using List Comprehension. newlist = [expression for item in iterable if condition == True]"
   ]
  },
  {
   "cell_type": "code",
   "execution_count": 14,
   "id": "c3706757",
   "metadata": {},
   "outputs": [
    {
     "name": "stdout",
     "output_type": "stream",
     "text": [
      "['Arthi', 'Pritam']\n"
     ]
    }
   ],
   "source": [
    "name_list = [\"Arthi\", \"Ayat\", \"Ilham\", \"Pritam\"]\n",
    "new_list = [name for name in name_list if 'r' in name]\n",
    "print(new_list)"
   ]
  },
  {
   "cell_type": "code",
   "execution_count": 15,
   "id": "3f3d275d",
   "metadata": {},
   "outputs": [
    {
     "name": "stdout",
     "output_type": "stream",
     "text": [
      "['ARTHI', 'AYAT', 'ILHAM', 'PRITAM']\n"
     ]
    }
   ],
   "source": [
    "name_list = [\"Arthi\", \"Ayat\", \"Ilham\", \"Pritam\"]\n",
    "new_list = [name.upper() for name in name_list]\n",
    "print(new_list)"
   ]
  },
  {
   "cell_type": "code",
   "execution_count": 19,
   "id": "d929dcb0",
   "metadata": {},
   "outputs": [
    {
     "name": "stdout",
     "output_type": "stream",
     "text": [
      "['Sohel', 'Ayat', 'Ilham', 'Pritam']\n"
     ]
    }
   ],
   "source": [
    "name_list = [\"Arthi\", \"Ayat\", \"Ilham\", \"Pritam\"]\n",
    "new_list = [name if name != 'Arthi' else 'Sohel' for name in name_list]\n",
    "print(new_list)"
   ]
  },
  {
   "cell_type": "markdown",
   "id": "ba71285f",
   "metadata": {},
   "source": [
    "## Sort Lists. By default the sort() method is case sensitive."
   ]
  },
  {
   "cell_type": "code",
   "execution_count": 21,
   "id": "8bcf0339",
   "metadata": {},
   "outputs": [
    {
     "name": "stdout",
     "output_type": "stream",
     "text": [
      "['Arthi', 'Ayat', 'Ilham', 'Pritam', 'Shuvo', 'Sohel']\n"
     ]
    }
   ],
   "source": [
    "name_list = [\"Arthi\", \"Ayat\", \"Ilham\", \"Pritam\", \"Sohel\", \"Shuvo\"]\n",
    "name_list.sort()\n",
    "print(name_list)"
   ]
  },
  {
   "cell_type": "code",
   "execution_count": 22,
   "id": "74f0c5b3",
   "metadata": {},
   "outputs": [
    {
     "name": "stdout",
     "output_type": "stream",
     "text": [
      "[1, 5, 10, 50, 100, 200]\n"
     ]
    }
   ],
   "source": [
    "numbers = [100,50,10,200,1,5]\n",
    "numbers.sort()\n",
    "print(numbers)"
   ]
  },
  {
   "cell_type": "markdown",
   "id": "93ee9930",
   "metadata": {},
   "source": [
    "## Sort Descending"
   ]
  },
  {
   "cell_type": "code",
   "execution_count": 23,
   "id": "d9268816",
   "metadata": {},
   "outputs": [
    {
     "name": "stdout",
     "output_type": "stream",
     "text": [
      "[200, 100, 50, 10, 5, 1]\n"
     ]
    }
   ],
   "source": [
    "numbers = [100,50,10,200,1,5]\n",
    "numbers.sort(reverse = True)\n",
    "print(numbers)"
   ]
  },
  {
   "cell_type": "markdown",
   "id": "6984400b",
   "metadata": {},
   "source": [
    "## Customize Sort Funtion"
   ]
  },
  {
   "cell_type": "code",
   "execution_count": 24,
   "id": "f819a878",
   "metadata": {},
   "outputs": [
    {
     "name": "stdout",
     "output_type": "stream",
     "text": [
      "[50, 65, 23, 82, 100]\n"
     ]
    }
   ],
   "source": [
    "# Sort the list based on how close the number is to 50\n",
    "def cmp(n):\n",
    "    return abs(n-50)\n",
    "numbers = [100,50,65,82,23]\n",
    "numbers.sort(key = cmp)\n",
    "print(numbers)"
   ]
  },
  {
   "cell_type": "markdown",
   "id": "2607e120",
   "metadata": {},
   "source": [
    "## Perform a case-insensitive sort of the list"
   ]
  },
  {
   "cell_type": "code",
   "execution_count": 25,
   "id": "fdcdbc6b",
   "metadata": {},
   "outputs": [
    {
     "name": "stdout",
     "output_type": "stream",
     "text": [
      "['banana', 'cherry', 'Kiwi', 'Orange']\n"
     ]
    }
   ],
   "source": [
    "thislist = [\"banana\", \"Orange\", \"Kiwi\", \"cherry\"]\n",
    "thislist.sort(key = str.lower)\n",
    "print(thislist)"
   ]
  },
  {
   "cell_type": "markdown",
   "id": "2e4a7e1e",
   "metadata": {},
   "source": [
    "## Reverse Order"
   ]
  },
  {
   "cell_type": "code",
   "execution_count": 26,
   "id": "588c6691",
   "metadata": {},
   "outputs": [
    {
     "name": "stdout",
     "output_type": "stream",
     "text": [
      "['cherry', 'Kiwi', 'Orange', 'banana']\n"
     ]
    }
   ],
   "source": [
    "thislist = [\"banana\", \"Orange\", \"Kiwi\", \"cherry\"]\n",
    "thislist.reverse()\n",
    "print(thislist)"
   ]
  },
  {
   "cell_type": "markdown",
   "id": "62dd09d3",
   "metadata": {},
   "source": [
    "## Copy Lists"
   ]
  },
  {
   "cell_type": "code",
   "execution_count": 27,
   "id": "4a9442fe",
   "metadata": {},
   "outputs": [
    {
     "name": "stdout",
     "output_type": "stream",
     "text": [
      "['Arthi', 'Ayat', 'Ilham', 'Pritam']\n"
     ]
    }
   ],
   "source": [
    "name_list = [\"Arthi\", \"Ayat\", \"Ilham\", \"Pritam\"]\n",
    "copy_list = name_list.copy()\n",
    "print(copy_list)"
   ]
  },
  {
   "cell_type": "code",
   "execution_count": 28,
   "id": "a5347d70",
   "metadata": {},
   "outputs": [
    {
     "name": "stdout",
     "output_type": "stream",
     "text": [
      "['Arthi', 'Ayat', 'Ilham', 'Pritam']\n"
     ]
    }
   ],
   "source": [
    "name_list = [\"Arthi\", \"Ayat\", \"Ilham\", \"Pritam\"]\n",
    "copy_list = list(name_list)\n",
    "print(copy_list)"
   ]
  },
  {
   "cell_type": "markdown",
   "id": "3ac5567a",
   "metadata": {},
   "source": [
    "## Join Lists"
   ]
  },
  {
   "cell_type": "code",
   "execution_count": 29,
   "id": "d0546caa",
   "metadata": {},
   "outputs": [
    {
     "name": "stdout",
     "output_type": "stream",
     "text": [
      "['a', 'b', 'c', 1, 2, 3]\n"
     ]
    }
   ],
   "source": [
    "list1 = ['a','b','c']\n",
    "list2 = [1,2,3]\n",
    "list3 = list1 + list2\n",
    "print(list3)"
   ]
  },
  {
   "cell_type": "markdown",
   "id": "22ae5f19",
   "metadata": {},
   "source": [
    "## Python - List Methods\n",
    "https://www.w3schools.com/python/python_lists_methods.asp"
   ]
  }
 ],
 "metadata": {
  "kernelspec": {
   "display_name": "Python 3 (ipykernel)",
   "language": "python",
   "name": "python3"
  },
  "language_info": {
   "codemirror_mode": {
    "name": "ipython",
    "version": 3
   },
   "file_extension": ".py",
   "mimetype": "text/x-python",
   "name": "python",
   "nbconvert_exporter": "python",
   "pygments_lexer": "ipython3",
   "version": "3.10.4"
  }
 },
 "nbformat": 4,
 "nbformat_minor": 5
}
