{
 "cells": [
  {
   "cell_type": "markdown",
   "id": "4883174c",
   "metadata": {},
   "source": [
    "# List is a collection which is ordered and changeable. Allows duplicate members. Lists are used to store multiple items in a single varible. Lists are one of 4 built-in data types in Python used to store collections of data, the other 3 are Tuple, Set, and Dictionary, all with different qualities and usage. Lists are created using square brackets"
   ]
  },
  {
   "cell_type": "code",
   "execution_count": 1,
   "id": "ba1c32b3",
   "metadata": {},
   "outputs": [
    {
     "name": "stdout",
     "output_type": "stream",
     "text": [
      "['Apple', 'Banana', 'Cherry']\n"
     ]
    }
   ],
   "source": [
    "fruit_list = [\"Apple\", \"Banana\", \"Cherry\"]\n",
    "print(fruit_list)"
   ]
  },
  {
   "cell_type": "markdown",
   "id": "c1d4e1a2",
   "metadata": {},
   "source": [
    "# Ordered - When we say that lists are ordered, it means that the items have a defined order, and that order will not change. Changeable - The list is changeable, meaning that we can change, add, or remove items in a list after it has been created."
   ]
  },
  {
   "cell_type": "markdown",
   "id": "158b778c",
   "metadata": {},
   "source": [
    "# The list() Constructor. It is also possible to use the list() constructor when creating a new list"
   ]
  },
  {
   "cell_type": "code",
   "execution_count": 2,
   "id": "538e685e",
   "metadata": {},
   "outputs": [
    {
     "name": "stdout",
     "output_type": "stream",
     "text": [
      "['Apple', 'Banana', 'Cherry']\n"
     ]
    }
   ],
   "source": [
    "this_list = list((\"Apple\", \"Banana\", \"Cherry\"))\n",
    "print(this_list)"
   ]
  },
  {
   "cell_type": "markdown",
   "id": "0543beb0",
   "metadata": {},
   "source": [
    "# Access Items"
   ]
  },
  {
   "cell_type": "code",
   "execution_count": 6,
   "id": "c3da38ee",
   "metadata": {},
   "outputs": [
    {
     "name": "stdout",
     "output_type": "stream",
     "text": [
      "The 1st indexed fruit Banana\n",
      "The last indexed fruit Mango\n",
      "Start from 2nd indexed and end in 4th indexed ['Cherry', 'Orange', 'Kiwi']\n"
     ]
    }
   ],
   "source": [
    "fruit_list = [\"Apple\", \"Banana\", \"Cherry\",\"Orange\", \"Kiwi\", \"Melon\", \"Mango\"]\n",
    "print(\"The 1st indexed fruit\",fruit_list[1])\n",
    "print(\"The last indexed fruit\",fruit_list[-1])\n",
    "print(\"Start from 2nd indexed and end in 4th indexed\",fruit_list[2:5])"
   ]
  },
  {
   "cell_type": "markdown",
   "id": "53399188",
   "metadata": {},
   "source": [
    "# Check if Item Exists"
   ]
  },
  {
   "cell_type": "code",
   "execution_count": 7,
   "id": "b9a95a6a",
   "metadata": {},
   "outputs": [
    {
     "name": "stdout",
     "output_type": "stream",
     "text": [
      "YES, 'Apple' is in the fruits list\n",
      "NO, 'Jackfruit' is not in the fruits list\n"
     ]
    }
   ],
   "source": [
    "fruit_list = [\"Apple\", \"Banana\", \"Cherry\",\"Orange\", \"Kiwi\", \"Melon\", \"Mango\"]\n",
    "if \"Apple\" in fruit_list:\n",
    "    print(\"YES, 'Apple' is in the fruits list\")\n",
    "if \"Jackfruit\" in fruit_list:\n",
    "    print(\"YES, 'Jackfruit' is in the fruits list\")\n",
    "else:\n",
    "    print(\"NO, 'Jackfruit' is not in the fruits list\")"
   ]
  },
  {
   "cell_type": "markdown",
   "id": "ed3ac4d9",
   "metadata": {},
   "source": [
    "# Change List Items"
   ]
  },
  {
   "cell_type": "code",
   "execution_count": 11,
   "id": "1e85a3cb",
   "metadata": {},
   "outputs": [
    {
     "name": "stdout",
     "output_type": "stream",
     "text": [
      "['Apple', 'Banana', 'Cherry', 'Orange', 'Jackfruit', 'Melon', 'Mango']\n",
      "['Apple', 'Banana', 'Cherry', 'Orange', 'Jackfruit', 'Watermelon', 'Blackcurrant']\n",
      "['Apple', 'Banana', 'Cherry', 'Orange', 'Jackfruit', 'Mango']\n"
     ]
    }
   ],
   "source": [
    "fruit_list = [\"Apple\", \"Banana\", \"Cherry\",\"Orange\", \"Kiwi\", \"Melon\", \"Mango\"]\n",
    "fruit_list[4] = \"Jackfruit\"\n",
    "print(fruit_list)\n",
    "\n",
    "fruit_list[5:] = [\"Watermelon\", \"Blackcurrant\"]\n",
    "print(fruit_list)\n",
    "\n",
    "fruit_list[5:] = [\"Mango\"]\n",
    "print(fruit_list)"
   ]
  },
  {
   "cell_type": "code",
   "execution_count": 13,
   "id": "0a24ac43",
   "metadata": {},
   "outputs": [
    {
     "ename": "SyntaxError",
     "evalue": "invalid syntax (1785634724.py, line 1)",
     "output_type": "error",
     "traceback": [
      "\u001b[1;36m  Cell \u001b[1;32mIn[13], line 1\u001b[1;36m\u001b[0m\n\u001b[1;33m    Insert Items\u001b[0m\n\u001b[1;37m           ^\u001b[0m\n\u001b[1;31mSyntaxError\u001b[0m\u001b[1;31m:\u001b[0m invalid syntax\n"
     ]
    }
   ],
   "source": [
    "Insert Items"
   ]
  },
  {
   "cell_type": "code",
   "execution_count": 14,
   "id": "31399367",
   "metadata": {},
   "outputs": [
    {
     "name": "stdout",
     "output_type": "stream",
     "text": [
      "['Apple', 'Banana', 'Jackfruit', 'Cherry', 'Orange', 'Kiwi', 'Melon', 'Mango']\n"
     ]
    }
   ],
   "source": [
    "fruit_list = [\"Apple\", \"Banana\", \"Cherry\",\"Orange\", \"Kiwi\", \"Melon\", \"Mango\"]\n",
    "fruit_list.insert(2,\"Jackfruit\")\n",
    "print(fruit_list)"
   ]
  },
  {
   "cell_type": "code",
   "execution_count": null,
   "id": "bdf7ce96",
   "metadata": {},
   "outputs": [],
   "source": []
  }
 ],
 "metadata": {
  "kernelspec": {
   "display_name": "Python 3 (ipykernel)",
   "language": "python",
   "name": "python3"
  },
  "language_info": {
   "codemirror_mode": {
    "name": "ipython",
    "version": 3
   },
   "file_extension": ".py",
   "mimetype": "text/x-python",
   "name": "python",
   "nbconvert_exporter": "python",
   "pygments_lexer": "ipython3",
   "version": "3.10.4"
  }
 },
 "nbformat": 4,
 "nbformat_minor": 5
}
